{
 "cells": [
  {
   "cell_type": "code",
   "execution_count": 2,
   "metadata": {},
   "outputs": [],
   "source": [
    "import pandas as pd\n",
    "\n",
    "df = pd.read_csv(\"DBPediaQA12K.csv\")\n",
    "labels = df[\"answer\"]"
   ]
  },
  {
   "cell_type": "code",
   "execution_count": 5,
   "metadata": {},
   "outputs": [
    {
     "data": {
      "text/plain": [
       "11967"
      ]
     },
     "execution_count": 5,
     "metadata": {},
     "output_type": "execute_result"
    }
   ],
   "source": [
    "len(df)"
   ]
  },
  {
   "cell_type": "code",
   "execution_count": null,
   "metadata": {},
   "outputs": [
    {
     "name": "stderr",
     "output_type": "stream",
     "text": [
      "/tmp/ipykernel_1026748/2685217868.py:2: FutureWarning: You are using `torch.load` with `weights_only=False` (the current default value), which uses the default pickle module implicitly. It is possible to construct malicious pickle data which will execute arbitrary code during unpickling (See https://github.com/pytorch/pytorch/blob/main/SECURITY.md#untrusted-models for more details). In a future release, the default value for `weights_only` will be flipped to `True`. This limits the functions that could be executed during unpickling. Arbitrary objects will no longer be allowed to be loaded via this mode unless they are explicitly allowlisted by the user via `torch.serialization.add_safe_globals`. We recommend you start setting `weights_only=True` for any use case where you don't have full control of the loaded file. Please open an issue on GitHub for any issues related to this experimental feature.\n",
      "  data = torch.load(\"sampled_dataset.pt\")\n",
      "/home/infres/dfouchard-21/G-Retriever/lib/python3.12/site-packages/tqdm/auto.py:21: TqdmWarning: IProgress not found. Please update jupyter and ipywidgets. See https://ipywidgets.readthedocs.io/en/stable/user_install.html\n",
      "  from .autonotebook import tqdm as notebook_tqdm\n"
     ]
    }
   ],
   "source": [
    "import torch\n",
    "\n",
    "data = torch.load(\"sampled_dataset.pt\")\n",
    "labels = data[\"answer\"]"
   ]
  },
  {
   "cell_type": "code",
   "execution_count": 14,
   "metadata": {},
   "outputs": [
    {
     "data": {
      "text/plain": [
       "6721"
      ]
     },
     "execution_count": 14,
     "metadata": {},
     "output_type": "execute_result"
    }
   ],
   "source": [
    "len(labels)"
   ]
  },
  {
   "cell_type": "code",
   "execution_count": 13,
   "metadata": {},
   "outputs": [
    {
     "data": {
      "text/plain": [
       "Agent/Person/OfficeHolder                                 517\n",
       "Place/PopulatedPlace/Settlement/Village                   507\n",
       "Species/Eukaryote/Plant                                   486\n",
       "Work/Film                                                 470\n",
       "Agent/Organisation/Company                                465\n",
       "Work/MusicalWork/Album                                    418\n",
       "Place/ArchitecturalStructure/Building                     381\n",
       "Agent/Person                                              303\n",
       "Work/WrittenWork                                          294\n",
       "Agent/Person/Athlete/BaseballPlayer                       253\n",
       "Place/ArchitecturalStructure                              227\n",
       "Place/ArchitecturalStructure/Building/HistoricBuilding    221\n",
       "Place/NaturalPlace/BodyOfWater/Stream/River               212\n",
       "Agent/Organisation/EducationalInstitution/University      195\n",
       "Agent/Person/Athlete                                      189\n",
       "Agent/Organisation                                        161\n",
       "Agent/Person/Artist                                       150\n",
       "Agent                                                     150\n",
       "Species/Eukaryote                                         149\n",
       "Agent/Person/Athlete/AmericanFootballPlayer               129\n",
       "Species/Eukaryote/Animal                                  112\n",
       "Agent/Person/Athlete/Cricketer                            110\n",
       "Place/NaturalPlace                                         93\n",
       "Agent/Person/Artist/MusicalArtist                          83\n",
       "MeanOfTransportation                                       73\n",
       "Place/ArchitecturalStructure/Building/Museum               62\n",
       "Agent/Person/Athlete/SoccerPlayer                          54\n",
       "Place/PopulatedPlace                                       39\n",
       "Work/MusicalWork                                           38\n",
       "Agent/Person/Athlete/IceHockeyPlayer                       35\n",
       "Work                                                       31\n",
       "Place                                                      31\n",
       "Place/PopulatedPlace/Settlement                            27\n",
       "Species                                                    26\n",
       "Agent/Organisation/EducationalInstitution                  26\n",
       "Agent/Person/Artist/Writer                                  4\n",
       "Name: count, dtype: int64"
      ]
     },
     "execution_count": 13,
     "metadata": {},
     "output_type": "execute_result"
    }
   ],
   "source": [
    "# Do an histogram of the labels to see if they are balanced (with pytorch and text)\n",
    "labels = pd.Series(labels)\n",
    "labels.value_counts()"
   ]
  }
 ],
 "metadata": {
  "kernelspec": {
   "display_name": "G-Retriever",
   "language": "python",
   "name": "python3"
  },
  "language_info": {
   "codemirror_mode": {
    "name": "ipython",
    "version": 3
   },
   "file_extension": ".py",
   "mimetype": "text/x-python",
   "name": "python",
   "nbconvert_exporter": "python",
   "pygments_lexer": "ipython3",
   "version": "3.12.3"
  }
 },
 "nbformat": 4,
 "nbformat_minor": 2
}
